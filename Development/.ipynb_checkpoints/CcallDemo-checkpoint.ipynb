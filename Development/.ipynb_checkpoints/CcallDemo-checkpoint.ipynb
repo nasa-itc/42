{
 "cells": [
  {
   "cell_type": "code",
   "execution_count": 14,
   "metadata": {},
   "outputs": [
    {
     "ename": "LoadError",
     "evalue": "could not load library \"../Kit/libkit.so\"\ndlopen(../Kit/libkit.so.dylib, 1): image not found",
     "output_type": "error",
     "traceback": [
      "could not load library \"../Kit/libkit.so\"\ndlopen(../Kit/libkit.so.dylib, 1): image not found",
      "",
      "Stacktrace:",
      " [1] top-level scope",
      "   @ ./In[14]:7",
      " [2] eval",
      "   @ ./boot.jl:360 [inlined]",
      " [3] include_string(mapexpr::typeof(REPL.softscope), mod::Module, code::String, filename::String)",
      "   @ Base ./loading.jl:1116"
     ]
    }
   ],
   "source": [
    "Year = 2021;\n",
    "Month = 8;\n",
    "Day = 12;\n",
    "Hour = 0;\n",
    "Minute = 0;\n",
    "Second = 0.0;\n",
    "JD = ccall((:DateToJD,\"../Kit/libkit.so\"),Cdouble,(Clong,Clong,Clong,Clong,Clong,Cdouble),\n",
    "    Year,Month,Day,Hour,Minute,Second)"
   ]
  },
  {
   "cell_type": "code",
   "execution_count": 15,
   "metadata": {},
   "outputs": [
    {
     "ename": "LoadError",
     "evalue": "UndefVarError: JD not defined",
     "output_type": "error",
     "traceback": [
      "UndefVarError: JD not defined",
      "",
      "Stacktrace:",
      " [1] top-level scope",
      "   @ In[15]:1",
      " [2] eval",
      "   @ ./boot.jl:360 [inlined]",
      " [3] include_string(mapexpr::typeof(REPL.softscope), mod::Module, code::String, filename::String)",
      "   @ Base ./loading.jl:1116"
     ]
    }
   ],
   "source": [
    "JD = JD+1.5\n",
    "# collect appears to work like malloc\n",
    "Year = collect(Clong,1)\n",
    "Month = collect(Clong,1)\n",
    "Day = collect(Clong,1)\n",
    "Hour = collect(Clong,1)\n",
    "Minute = collect(Clong,1)\n",
    "Second = collect(Cdouble,1);"
   ]
  },
  {
   "cell_type": "code",
   "execution_count": 16,
   "metadata": {},
   "outputs": [
    {
     "ename": "LoadError",
     "evalue": "UndefVarError: JD not defined",
     "output_type": "error",
     "traceback": [
      "UndefVarError: JD not defined",
      "",
      "Stacktrace:",
      " [1] top-level scope",
      "   @ ./In[16]:1",
      " [2] eval",
      "   @ ./boot.jl:360 [inlined]",
      " [3] include_string(mapexpr::typeof(REPL.softscope), mod::Module, code::String, filename::String)",
      "   @ Base ./loading.jl:1116"
     ]
    }
   ],
   "source": [
    "ccall((:JDToDate,\"../Kit/libkit.so\"),Cvoid,(Cdouble,Ptr{Clong},Ptr{Clong},Ptr{Clong},Ptr{Clong},Ptr{Clong},Ptr{Cdouble}),\n",
    "    JD,Year,Month,Day,Hour,Minute,Second)"
   ]
  },
  {
   "cell_type": "code",
   "execution_count": 17,
   "metadata": {},
   "outputs": [
    {
     "ename": "LoadError",
     "evalue": "UndefVarError: JD not defined",
     "output_type": "error",
     "traceback": [
      "UndefVarError: JD not defined",
      "",
      "Stacktrace:",
      " [1] top-level scope",
      "   @ In[17]:1",
      " [2] eval",
      "   @ ./boot.jl:360 [inlined]",
      " [3] include_string(mapexpr::typeof(REPL.softscope), mod::Module, code::String, filename::String)",
      "   @ Base ./loading.jl:1116"
     ]
    }
   ],
   "source": [
    "(JD,Year,Month,Day,Hour,Minute,Second)"
   ]
  },
  {
   "cell_type": "code",
   "execution_count": 18,
   "metadata": {},
   "outputs": [],
   "source": [
    "SqrtHalf = sqrt(0.5);\n",
    "qx = [SqrtHalf;0;0;SqrtHalf];\n",
    "qy = [0;SqrtHalf;0;SqrtHalf];\n",
    "qz = [0;0;SqrtHalf;SqrtHalf];"
   ]
  },
  {
   "cell_type": "code",
   "execution_count": 19,
   "metadata": {},
   "outputs": [
    {
     "ename": "LoadError",
     "evalue": "could not load library \"../Kit/libkit.so\"\ndlopen(../Kit/libkit.so.dylib, 1): image not found",
     "output_type": "error",
     "traceback": [
      "could not load library \"../Kit/libkit.so\"\ndlopen(../Kit/libkit.so.dylib, 1): image not found",
      "",
      "Stacktrace:",
      " [1] top-level scope",
      "   @ ./In[19]:2",
      " [2] eval",
      "   @ ./boot.jl:360 [inlined]",
      " [3] include_string(mapexpr::typeof(REPL.softscope), mod::Module, code::String, filename::String)",
      "   @ Base ./loading.jl:1116"
     ]
    }
   ],
   "source": [
    "qyz = collect(Cdouble,[0.0;0.0;0.0;1.0])\n",
    "ccall((:QxQ,\"../Kit/libkit.so\"),Cvoid,(Ptr{Cdouble},Ptr{Cdouble},Ptr{Cdouble}),qy,qz,qyz)\n",
    "qyz"
   ]
  },
  {
   "cell_type": "code",
   "execution_count": 20,
   "metadata": {},
   "outputs": [
    {
     "ename": "LoadError",
     "evalue": "could not load library \"../Kit/libkit.so\"\ndlopen(../Kit/libkit.so.dylib, 1): image not found",
     "output_type": "error",
     "traceback": [
      "could not load library \"../Kit/libkit.so\"\ndlopen(../Kit/libkit.so.dylib, 1): image not found",
      "",
      "Stacktrace:",
      " [1] top-level scope",
      "   @ ./In[20]:2",
      " [2] eval",
      "   @ ./boot.jl:360 [inlined]",
      " [3] include_string(mapexpr::typeof(REPL.softscope), mod::Module, code::String, filename::String)",
      "   @ Base ./loading.jl:1116"
     ]
    }
   ],
   "source": [
    "qzx = collect(Cdouble,[0.0;0.0;0.0;1.0])\n",
    "ccall((:QxQ,\"../Kit/libkit.so\"),Cvoid,(Ptr{Cdouble},Ptr{Cdouble},Ptr{Cdouble}),qz,qx,qzx)\n",
    "qzx"
   ]
  },
  {
   "cell_type": "code",
   "execution_count": 21,
   "metadata": {},
   "outputs": [
    {
     "ename": "LoadError",
     "evalue": "could not load library \"../Kit/libkit.so\"\ndlopen(../Kit/libkit.so.dylib, 1): image not found",
     "output_type": "error",
     "traceback": [
      "could not load library \"../Kit/libkit.so\"\ndlopen(../Kit/libkit.so.dylib, 1): image not found",
      "",
      "Stacktrace:",
      " [1] top-level scope",
      "   @ ./In[21]:2",
      " [2] eval",
      "   @ ./boot.jl:360 [inlined]",
      " [3] include_string(mapexpr::typeof(REPL.softscope), mod::Module, code::String, filename::String)",
      "   @ Base ./loading.jl:1116"
     ]
    }
   ],
   "source": [
    "qxy = collect(Cdouble,[0.0;0.0;0.0;1.0])\n",
    "ccall((:QxQ,\"../Kit/libkit.so\"),Cvoid,(Ptr{Cdouble},Ptr{Cdouble},Ptr{Cdouble}),qx,qy,qxy)\n",
    "qxy"
   ]
  },
  {
   "cell_type": "code",
   "execution_count": 22,
   "metadata": {},
   "outputs": [
    {
     "data": {
      "text/plain": [
       "3×3 Matrix{Float64}:\n",
       " 1.0  2.0  3.0\n",
       " 4.0  5.0  6.0\n",
       " 7.0  8.0  9.0"
      ]
     },
     "execution_count": 22,
     "metadata": {},
     "output_type": "execute_result"
    }
   ],
   "source": [
    "A = [1 2 3;4 5 6;7 8 9];\n",
    "CA = collect(Cdouble,A)"
   ]
  },
  {
   "cell_type": "code",
   "execution_count": 23,
   "metadata": {},
   "outputs": [
    {
     "data": {
      "text/plain": [
       "3-element Vector{Float64}:\n",
       " 5.0\n",
       " 6.0\n",
       " 3.0"
      ]
     },
     "execution_count": 23,
     "metadata": {},
     "output_type": "execute_result"
    }
   ],
   "source": [
    "b = [5;6;3];\n",
    "cb = collect(Cdouble,b)"
   ]
  },
  {
   "cell_type": "code",
   "execution_count": 24,
   "metadata": {},
   "outputs": [
    {
     "data": {
      "text/plain": [
       "3-element Vector{Int64}:\n",
       "  26\n",
       "  68\n",
       " 110"
      ]
     },
     "execution_count": 24,
     "metadata": {},
     "output_type": "execute_result"
    }
   ],
   "source": [
    "A*b"
   ]
  },
  {
   "cell_type": "code",
   "execution_count": 25,
   "metadata": {},
   "outputs": [
    {
     "ename": "LoadError",
     "evalue": "could not load library \"../Kit/libkit.so\"\ndlopen(../Kit/libkit.so.dylib, 1): image not found",
     "output_type": "error",
     "traceback": [
      "could not load library \"../Kit/libkit.so\"\ndlopen(../Kit/libkit.so.dylib, 1): image not found",
      "",
      "Stacktrace:",
      " [1] top-level scope",
      "   @ ./In[25]:3",
      " [2] eval",
      "   @ ./boot.jl:360 [inlined]",
      " [3] include_string(mapexpr::typeof(REPL.softscope), mod::Module, code::String, filename::String)",
      "   @ Base ./loading.jl:1116"
     ]
    }
   ],
   "source": [
    "# Watch out for matrix transposes!  C is row-major, julia is column-major.\n",
    "pc = collect(Cdouble,[0;0;0])\n",
    "ccall((:MxV,\"../Kit/libkit.so\"),Cvoid,(Ptr{Cdouble},Ptr{Cdouble},Ptr{Cdouble}),CA,cb,pc)\n",
    "pc"
   ]
  },
  {
   "cell_type": "code",
   "execution_count": 26,
   "metadata": {},
   "outputs": [
    {
     "ename": "LoadError",
     "evalue": "could not load library \"../Kit/libkit.so\"\ndlopen(../Kit/libkit.so.dylib, 1): image not found",
     "output_type": "error",
     "traceback": [
      "could not load library \"../Kit/libkit.so\"\ndlopen(../Kit/libkit.so.dylib, 1): image not found",
      "",
      "Stacktrace:",
      " [1] top-level scope",
      "   @ ./In[26]:3",
      " [2] eval",
      "   @ ./boot.jl:360 [inlined]",
      " [3] include_string(mapexpr::typeof(REPL.softscope), mod::Module, code::String, filename::String)",
      "   @ Base ./loading.jl:1116"
     ]
    }
   ],
   "source": [
    "# Watch out for matrix transposes!  C is row-major, julia is column-major.\n",
    "pc = collect(Cdouble,[0;0;0])\n",
    "ccall((:MTxV,\"../Kit/libkit.so\"),Cvoid,(Ptr{Cdouble},Ptr{Cdouble},Ptr{Cdouble}),CA,cb,pc)\n",
    "pc"
   ]
  },
  {
   "cell_type": "code",
   "execution_count": null,
   "metadata": {},
   "outputs": [],
   "source": []
  }
 ],
 "metadata": {
  "kernelspec": {
   "display_name": "Julia 1.6.2",
   "language": "julia",
   "name": "julia-1.6"
  },
  "language_info": {
   "file_extension": ".jl",
   "mimetype": "application/julia",
   "name": "julia",
   "version": "1.6.2"
  }
 },
 "nbformat": 4,
 "nbformat_minor": 4
}
